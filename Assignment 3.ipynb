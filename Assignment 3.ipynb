{
 "cells": [
  {
   "cell_type": "code",
   "execution_count": null,
   "metadata": {},
   "outputs": [],
   "source": [
    "# 1) Make a calculator using Python with addition , subtraction , multiplication ,division and power.\n",
    "\n",
    "\n",
    "# Program make a simple calculator\n",
    "\n",
    "\n",
    "# This function adds two numbers \n",
    "def add(x, y):\n",
    "   return x + y\n",
    "\n",
    "# This function subtracts two numbers \n",
    "def subtract(x, y):\n",
    "   return x - y\n",
    "\n",
    "# This function multiplies two numbers\n",
    "def multiply(x, y):\n",
    "   return x * y\n",
    "\n",
    "# This function divides two numbers\n",
    "def divide(x, y):\n",
    "   return x / y\n",
    "\n",
    "# This function calcuates the power \n",
    "def power(x,y):\n",
    "  return x**y\n",
    "\n",
    "print(\"Select operation.\")\n",
    "print(\"1.Add\")\n",
    "print(\"2.Subtract\")\n",
    "print(\"3.Multiply\")\n",
    "print(\"4.Divide\")\n",
    "# Take input from the user \n",
    "choice = input(\"Enter choice(1 for Addidtion 2 for Subtraction 3 for Multiplication 4 for Division 5 for Power): \")\n",
    "num1 = float(input(\"Enter first number: \"))\n",
    "num2 = float(input(\"Enter second number: \"))\n",
    "if choice == '1':\n",
    "   print(num1,\"+\",num2,\"=\", add(num1,num2))\n",
    "elif choice == '2':\n",
    "   print(num1,\"-\",num2,\"=\", subtract(num1,num2))\n",
    "elif choice == '3':\n",
    "   print(num1,\"*\",num2,\"=\", multiply(num1,num2))\n",
    "elif choice == '4':\n",
    "   print(num1,\"/\",num2,\"=\", divide(num1,num2))\n",
    "elif choice == '5':\n",
    "    print(num1,\"^\",num2,\"=\",power(num1,num2))\n",
    "else:\n",
    "   print(\"Invalid input\")"
   ]
  },
  {
   "cell_type": "code",
   "execution_count": null,
   "metadata": {},
   "outputs": [],
   "source": [
    "# 2) Write a program to check if there is any numeric value in list using for loop\n",
    "\n",
    "# Initializing list \n",
    "test_list = [ 1, 6, 3, 5, 3, 4 ] \n",
    "\n",
    "print(\"Checking if 4 exists in list ( using loop ) : \") \n",
    "\n",
    "# Checking if 4 exists in list \n",
    "# using loop \n",
    "for i in test_list: \n",
    "if(i == 4) : \n",
    "print (\"Element Exists\") \n",
    "\n",
    "print(\"Checking if 4 exists in list ( using in ) : \") \n",
    "\n",
    "# Checking if 4 exists in list \n",
    "\n",
    "if (4 in test_list): \n",
    "print (\"Element Exists\") \n"
   ]
  },
  {
   "cell_type": "code",
   "execution_count": null,
   "metadata": {},
   "outputs": [],
   "source": [
    "# 3) Write a Python script to add a key to a dictionary\n",
    "\n",
    "a = {0:10, 1:20}\n",
    "print(a)\n",
    "a.update({2:30})\n",
    "print(a)"
   ]
  },
  {
   "cell_type": "code",
   "execution_count": null,
   "metadata": {},
   "outputs": [],
   "source": [
    "# 4) Program to find sum of all items in a Dictionary \n",
    "\n",
    "# Function to print sum \n",
    "\n",
    "def returnSum(myDict): \n",
    "\n",
    "sum = 0\n",
    "for i in myDict: \n",
    "sum = sum + myDict[i] \n",
    "\n",
    "return sum\n",
    "\n",
    "# Driver Function \n",
    "dict = {'a': 100, 'b':200, 'c':300} \n",
    "print(\"Sum :\", returnSum(dict)) \n"
   ]
  },
  {
   "cell_type": "code",
   "execution_count": null,
   "metadata": {},
   "outputs": [],
   "source": [
    "# 5) Write a program to identify duplicate values from list \n",
    "\n",
    "def Repeat(x): \n",
    "size = len(x) \n",
    "repeated = [] \n",
    "for i in range(_size): \n",
    "k = i + 1\n",
    "for j in range(k, _size): \n",
    "if x[i] == x[j] and x[i] not in repeated: \n",
    "repeated.append(x[i]) \n",
    "return repeated \n",
    " \n",
    "list1 = [10, 20, 30, 20, 20, 30, 40, \n",
    "50, -20, 60, 60, -20, -20] \n",
    "print (Repeat(list1)) \n",
    "\n"
   ]
  },
  {
   "cell_type": "code",
   "execution_count": null,
   "metadata": {},
   "outputs": [],
   "source": [
    "# 6) Write a Python script to check if a given key already exists in a dictionary\n",
    "\n",
    "d = {1: 10, 2: 20, 3: 30, 4: 40, 5: 50, 6: 60}\n",
    "def is_key_present(x):\n",
    "  if x in d:\n",
    "      print('Key is present in the dictionary')\n",
    "  else:\n",
    "      print('Key is not present in the dictionary')\n",
    "is_key_present(5)\n",
    "is_key_present(9)"
   ]
  },
  {
   "cell_type": "code",
   "execution_count": null,
   "metadata": {},
   "outputs": [],
   "source": []
  }
 ],
 "metadata": {
  "kernelspec": {
   "display_name": "Python 3",
   "language": "python",
   "name": "python3"
  },
  "language_info": {
   "codemirror_mode": {
    "name": "ipython",
    "version": 3
   },
   "file_extension": ".py",
   "mimetype": "text/x-python",
   "name": "python",
   "nbconvert_exporter": "python",
   "pygments_lexer": "ipython3",
   "version": "3.7.4"
  }
 },
 "nbformat": 4,
 "nbformat_minor": 2
}
